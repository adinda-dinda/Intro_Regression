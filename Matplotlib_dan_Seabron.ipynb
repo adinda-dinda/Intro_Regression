{
  "nbformat": 4,
  "nbformat_minor": 0,
  "metadata": {
    "colab": {
      "provenance": []
    },
    "kernelspec": {
      "name": "python3",
      "display_name": "Python 3"
    },
    "language_info": {
      "name": "python"
    }
  },
  "cells": [
    {
      "cell_type": "markdown",
      "source": [
        "Seperti diketahui, visualisasi data merupakan aspek kunci dalam analisis karena bisa membantu memahami tren dan pola dalam data yang sedang kita kerjakan. Matplotlib menyediakan alat yang fleksibel dan mudah digunakan untuk menciptakan visualisasi tersebut.\n",
        "\n",
        "Dengan Matplotlib, kamu dapat membuat grafik garis, scatter plot, histogram, dan banyak lainnya dari data yang dimiliki.\n",
        "\n",
        "Misalnya, jika kamu memiliki data penjualan bulanan, kamu bisa menggunakan Matplotlib untuk menggambarkan tren penjualan dalam bentuk grafik. Alhasil, tren tersebut lebih mudah dilihat dan dipahami.\n",
        "\n",
        "Salah satu kelebihan lain dari Matplotlib adalah kemudahan dalam penggunaan. Hanya dengan menggunakan beberapa baris kode sederhana, kamu bisa menciptakan visualisasi yang kompleks. Visualisasi ini nantinya akan membantumu mengkomunikasikan temuan analisis kepada orang lain."
      ],
      "metadata": {
        "id": "qhydB67cb9Ac"
      }
    },
    {
      "cell_type": "markdown",
      "source": [
        "Cara Mengimpor Modul Matplotlib\n",
        "Agar bisa menggunakan Matplotlib, kamu perlu mengimpor modul Matplotlib ke dalam kode Python. Proses ini sangat sederhana dan bisa dilakukan dengan mudah.\n",
        "\n",
        "Pertama, kamu harus memastikan Matplotlib sudah terinstal di sistem kamu. Jika belum, kamu bisa menginstalnya menggunakan perintah PIP:"
      ],
      "metadata": {
        "id": "sNdYGEAIcDer"
      }
    },
    {
      "cell_type": "code",
      "source": [
        "pip install matplotlib"
      ],
      "metadata": {
        "colab": {
          "base_uri": "https://localhost:8080/"
        },
        "id": "sYQZ42TQcEeU",
        "outputId": "05844615-7ec1-4e90-94b7-baaa725d4538"
      },
      "execution_count": 1,
      "outputs": [
        {
          "output_type": "stream",
          "name": "stdout",
          "text": [
            "Requirement already satisfied: matplotlib in /usr/local/lib/python3.10/dist-packages (3.7.1)\n",
            "Requirement already satisfied: contourpy>=1.0.1 in /usr/local/lib/python3.10/dist-packages (from matplotlib) (1.3.0)\n",
            "Requirement already satisfied: cycler>=0.10 in /usr/local/lib/python3.10/dist-packages (from matplotlib) (0.12.1)\n",
            "Requirement already satisfied: fonttools>=4.22.0 in /usr/local/lib/python3.10/dist-packages (from matplotlib) (4.54.1)\n",
            "Requirement already satisfied: kiwisolver>=1.0.1 in /usr/local/lib/python3.10/dist-packages (from matplotlib) (1.4.7)\n",
            "Requirement already satisfied: numpy>=1.20 in /usr/local/lib/python3.10/dist-packages (from matplotlib) (1.26.4)\n",
            "Requirement already satisfied: packaging>=20.0 in /usr/local/lib/python3.10/dist-packages (from matplotlib) (24.1)\n",
            "Requirement already satisfied: pillow>=6.2.0 in /usr/local/lib/python3.10/dist-packages (from matplotlib) (10.4.0)\n",
            "Requirement already satisfied: pyparsing>=2.3.1 in /usr/local/lib/python3.10/dist-packages (from matplotlib) (3.1.4)\n",
            "Requirement already satisfied: python-dateutil>=2.7 in /usr/local/lib/python3.10/dist-packages (from matplotlib) (2.8.2)\n",
            "Requirement already satisfied: six>=1.5 in /usr/local/lib/python3.10/dist-packages (from python-dateutil>=2.7->matplotlib) (1.16.0)\n"
          ]
        }
      ]
    },
    {
      "cell_type": "markdown",
      "source": [
        "Kemudian, kamu dapat mulai mengimpor modul Matplotlib ke dalam kode Python milikmu.\n",
        "\n",
        "Ada beberapa cara untuk melakukan ini, tetapi cara yang paling umum adalah menggunakan perintah import untuk mengimpor matplotlib.pyplot.\n",
        "\n",
        "Berikut contoh kodenya:"
      ],
      "metadata": {
        "id": "1z4_l_fOcRrm"
      }
    },
    {
      "cell_type": "code",
      "source": [
        "import matplotlib.pyplot as plt"
      ],
      "metadata": {
        "id": "LnQ8nHGccSKt"
      },
      "execution_count": 2,
      "outputs": []
    },
    {
      "cell_type": "markdown",
      "source": [
        "Dalam contoh tersebut, kita mengambil library matplotlib.pyplot. Programmer umumnya menyingkat nama fungsi ini sebagai plt agar memudahkan dalam pemanggilan di kemudian hari.\n",
        "\n",
        "Sekarang, kamu sudah bisa menggunakan plt untuk mengakses semua fungsi dan fitur yang ada dalam modul matplotlib.pyplot.\n",
        "\n",
        "Setelah modul diimpor, kamu bebas menggunakan berbagai alat dan fungsi yang disediakan untuk menciptakan grafik dan diagram yang akan membantumu dalam analisis data"
      ],
      "metadata": {
        "id": "_RE7HIb-cVTf"
      }
    },
    {
      "cell_type": "markdown",
      "source": [
        "Cara Membuat Grafik Sederhana dengan Matplotlib\n",
        "Berikut langkah-langkah membuat grafik garis menggunakan Matplotlib:\n",
        "\n",
        "#1 Impor modul\n",
        "Pertama, kamu perlu mengimpor modul Matplotlib. Seperti yang telah kita bahas sebelumnya, kamu bisa melakukannya dengan baris kode berikut:"
      ],
      "metadata": {
        "id": "TOtypFqKceiz"
      }
    },
    {
      "cell_type": "code",
      "source": [
        "import matplotlib.pyplot as plt"
      ],
      "metadata": {
        "id": "JSi-MUZmcfdk"
      },
      "execution_count": 3,
      "outputs": []
    },
    {
      "cell_type": "markdown",
      "source": [
        "#2 Siapkan data\n",
        "Selanjutnya, tentukan data yang ingin kamu plot.\n",
        "\n",
        "Misalnya, kamu ingin membuat grafik garis yang menghubungkan titik-titik (1,2), (2,4), dan (3,6), kamu bisa menuliskan:"
      ],
      "metadata": {
        "id": "d7zaXxR8ch5U"
      }
    },
    {
      "cell_type": "code",
      "source": [
        "X = [1, 2, 3]\n",
        "y = [2, 4, 6]"
      ],
      "metadata": {
        "id": "hrYqZWYxckKy"
      },
      "execution_count": 4,
      "outputs": []
    },
    {
      "cell_type": "markdown",
      "source": [
        "#3 Gunakan metode plot()\n",
        "Metode plot() dipakai untuk menggambar grafik garis. Kamu dapat menggunakannya dengan cara berikut:"
      ],
      "metadata": {
        "id": "y39E6dqXcngj"
      }
    },
    {
      "cell_type": "code",
      "source": [
        "plt.plot(x, y)"
      ],
      "metadata": {
        "id": "KPdioWvLcqTb"
      },
      "execution_count": null,
      "outputs": []
    },
    {
      "cell_type": "markdown",
      "source": [
        "Kode lengkap untuk membuat grafik garis di atas adalah sebagai berikut:"
      ],
      "metadata": {
        "id": "sykzqY_kcxf-"
      }
    },
    {
      "cell_type": "code",
      "source": [
        "import matplotlib.pyplot as plt\n",
        "X = [1, 2, 3]\n",
        "y = [2, 4, 6]\n",
        "plt.plot(x, y)\n",
        "plt.show()"
      ],
      "metadata": {
        "id": "AnBVTUyoc0W3"
      },
      "execution_count": null,
      "outputs": []
    },
    {
      "cell_type": "markdown",
      "source": [
        "Output dari kode tersebut akan menampilkan grafik garis yang menghubungkan titik-titik (1,2), (2,4), dan (3,6).\n",
        "\n",
        "Jenis Grafik yang Dapat Dibuat dengan Matplotlib\n",
        "Berikut beberapa jenis grafik yang bisa dibuat dengan Matplotlib:\n",
        "\n",
        "Grafik garis (line graphs)\n",
        "Grafik garis biasanya digunakan untuk menampilkan tren data sepanjang interval waktu. Gunakan metode plot() untuk membuat grafik ini."
      ],
      "metadata": {
        "id": "L1a2gNsxc3Ks"
      }
    },
    {
      "cell_type": "code",
      "source": [
        "plt.scatter(x, y)\n",
        "plt.show()"
      ],
      "metadata": {
        "id": "Gids9la4c526"
      },
      "execution_count": null,
      "outputs": []
    },
    {
      "cell_type": "markdown",
      "source": [
        "Grafik batang (bar chart)\n",
        "Bar chart berguna untuk membandingkan nilai individu di kategori yang berbeda. Kamu dapat menggunakan metode bar() untuk membuat grafik ini."
      ],
      "metadata": {
        "id": "wvq3Vvy6c85i"
      }
    },
    {
      "cell_type": "code",
      "source": [
        "plt.bar(x, y)\n",
        "plt.show()"
      ],
      "metadata": {
        "id": "zRtrKMlMc_ez"
      },
      "execution_count": null,
      "outputs": []
    },
    {
      "cell_type": "markdown",
      "source": [
        "Grafik sebar (scatter plot)\n",
        "Scatter plot dipakai untuk menampilkan hubungan antara dua variabel berkelanjutan. Penggunaanya dengan metode scatter()."
      ],
      "metadata": {
        "id": "EmzlWeJIdBmr"
      }
    },
    {
      "cell_type": "code",
      "source": [
        "plt.scatter(x, y)\n",
        "plt.show()"
      ],
      "metadata": {
        "id": "PJqIAGfGdEip"
      },
      "execution_count": null,
      "outputs": []
    },
    {
      "cell_type": "markdown",
      "source": [
        "Histogram\n",
        "Histogram berfungsi untuk menampilkan distribusi data dalam rentang yang telah ditentukan. Untuk membuatnya, gunakan fungsi hist()."
      ],
      "metadata": {
        "id": "wn7QO-i2dGuK"
      }
    },
    {
      "cell_type": "code",
      "source": [
        "plt.hist(x, bins=10)\n",
        "plt.show()"
      ],
      "metadata": {
        "id": "xBPKaEZydLH8"
      },
      "execution_count": null,
      "outputs": []
    },
    {
      "cell_type": "markdown",
      "source": [
        "Pie chart\n",
        "Pie chart menampilkan proporsi dari keseluruhan dalam kategori yang berbeda. Gunakan fungsi pie() untuk membuat grafik ini."
      ],
      "metadata": {
        "id": "VyklhQnndTXN"
      }
    },
    {
      "cell_type": "code",
      "source": [
        "plt.pie(x, labels=labels)\n",
        "plt.show()"
      ],
      "metadata": {
        "id": "whYWq5sedXeO"
      },
      "execution_count": null,
      "outputs": []
    },
    {
      "cell_type": "markdown",
      "source": [
        "Box plot\n",
        "Box plot dipakai untuk menampilkan ringkasan statistik data seperti median, kuartil, dan pencilan. Untuk membuatnya, gunakan fungsi boxplot()."
      ],
      "metadata": {
        "id": "NaUxAr9YdabA"
      }
    },
    {
      "cell_type": "code",
      "source": [
        "plt.boxplot(x)\n",
        "plt.show()"
      ],
      "metadata": {
        "id": "xkoWB_hjdc7-"
      },
      "execution_count": null,
      "outputs": []
    },
    {
      "cell_type": "markdown",
      "source": [
        "Grafik kontur (contour plot):\n",
        "Contour plot berguna untuk menampilkan kontur dari fungsi tiga dimensi. Gunakan metode contour() untuk membuat grafiknya."
      ],
      "metadata": {
        "id": "RKlMBS-WdfHq"
      }
    },
    {
      "cell_type": "code",
      "source": [
        "plt.contour(X, Y, Z)\n",
        "plt.show)"
      ],
      "metadata": {
        "id": "t2Kf8lcJdlDf"
      },
      "execution_count": null,
      "outputs": []
    },
    {
      "cell_type": "markdown",
      "source": [
        "Grafik 3D\n",
        "Grafik 3D berfungsi untuk memvisualisasikan data dalam tiga dimensi. Untuk membuatnya, gunakan kode berikut."
      ],
      "metadata": {
        "id": "KeAWwN2ZdoCZ"
      }
    },
    {
      "cell_type": "code",
      "source": [
        "from mpl toolkits.mplot3d import Axes3D\n",
        "ax = plt. axes (projection='3d' )\n",
        "ax.plot_surface(X, Y, Z)\n",
        "plt.show()"
      ],
      "metadata": {
        "id": "jQNZOTEkdqN8"
      },
      "execution_count": null,
      "outputs": []
    },
    {
      "cell_type": "markdown",
      "source": [
        "Grafik area (area plot):\n",
        "Area plot menampilkan kuantitas melalui area yang diisi. Pembuatannya bisa dengan menggunakan fungsi between()."
      ],
      "metadata": {
        "id": "g1DLTRqEdsG4"
      }
    },
    {
      "cell_type": "code",
      "source": [
        "plt.fill_between(x, y1, y2)\n",
        "plt.show)"
      ],
      "metadata": {
        "id": "mTzGvX2tdu-R"
      },
      "execution_count": null,
      "outputs": []
    },
    {
      "cell_type": "markdown",
      "source": [
        "Grafik hexbin\n",
        "Grafik hexbin mirip dengan scatter plot, tetapi grafik ini menggunakan heksagon."
      ],
      "metadata": {
        "id": "wDeknUJLdxMs"
      }
    },
    {
      "cell_type": "code",
      "source": [
        "plt.hexbin(x, y, gridsize=30)\n",
        "plt.show()"
      ],
      "metadata": {
        "id": "PDwBsZECdzAx"
      },
      "execution_count": null,
      "outputs": []
    },
    {
      "cell_type": "markdown",
      "source": [
        "FAQ (Frequently Ask Question)\n",
        "Apakah Matplotlib hanya bisa digunakan untuk data numerik?\n",
        "Meskipun kebanyakan grafik di Matplotlib menggunakan data numerik, kamu tetap bisa membuat visualisasi dari data kategorikal, seperti grafik batang untuk membandingkan kategori berbeda.\n",
        "\n",
        "Bagaimana cara menambahkan judul dan label sumbu pada grafik Matplotlib?\n",
        "Untuk menambahkan judul dan label sumbu pada grafik Matplotlib, gunakan metode plt.title('Judul').\n",
        "\n",
        "plt.xlabel('Label X') untuk label sumbu x dan plt.ylabel('Label Y') untuk label sumbu y.\n",
        "\n",
        "Apakah Matplotlib kompatibel dengan Pandas?\n",
        "Ya, Matplotlib sepenuhnya kompatibel dengan Pandas dan sering digunakan bersama-sama. Kamu dapat dengan mudah menggambarkan grafik langsung dari DataFrame Pandas.\n",
        "\n",
        "Penutup\n",
        "Sebagai library visualisasi, Matplotlib memungkinkan kita untuk mengubah data mentah menjadi informasi berharga melalui berbagai bentuk grafik dan diagram. Mulai dari grafik garis sederhana sampai visualisasi yang kompleks, Matplotlib membantu menyampaikan cerita di balik angka dengan cara yang intuitif dan mudah dipahami."
      ],
      "metadata": {
        "id": "WQYYb5Uad0u7"
      }
    },
    {
      "cell_type": "markdown",
      "source": [
        "Mengenal Seaborn Python\n",
        "Seaborn adalah library visualisasi data berbasis Python yang menyediakan high-level interface (antarmuka tingkat tinggi) untuk menggambar grafik statistik yang informatif.\n",
        "\n",
        "Seaborn dibangun di atas Matplotlib, yaitu salah satu library visualisasi data paling dasar dan populer di Python. Artinya, Seaborn memanfaatkan fungsionalitas inti dari Matplotlib, sambil menambahkan lapisan abstraksi untuk memudahkan analyst membuat visualisasi yang lebih kompleks.\n",
        "\n",
        "Menurut GeeksforGeeks, Seaborn memudahkan dalam memvisualisasikan data dengan berbagai jenis plot seperti distribusi, kategorikal, matriks, dan banyak lagi. Dengan kata lain, jika kamu ingin melihat distribusi data atau hubungan antara dua variabel, Seaborn memiliki alat yang tepat untuk melakukannya.\n",
        "\n",
        "Tak hanya itu, Seaborn juga terintegrasi baik dengan struktur data Pandas, sehingga memungkinkan analisis dan visualisasi data menjadi lebih lancar."
      ],
      "metadata": {
        "id": "H7mG967TeFjd"
      }
    },
    {
      "cell_type": "markdown",
      "source": [
        "Perbedaan Seaborn vs Matplotlib\n",
        "Seaborn dan Matplotlib adalah dua library visualisasi data yang populer di Python, tetapi keduanya memiliki karakteristik dan kegunaan yang berbeda.\n",
        "\n",
        "Berikut perbedaan keduanya:\n",
        "\n",
        "Desain dan estetika: secara default, Seaborn memiliki tema dan palet warna yang lebih menarik dibandingkan dengan Matplotlib. Hal ini memungkinkan kamu untuk lebih mudah membuat visualisasi tanpa perlu banyak penyesuaian.\n",
        "Fungsionalitas: meskipun Seaborn dibangun di atas Matplotlib dan memanfaatkannya sebagai dasar, Seaborn menawarkan berbagai jenis plot khusus yang dioptimalkan untuk analisis statistik, seperti plot distribusi, plot kategorikal, dan plot matriks. Di sisi lain, Matplotlib lebih fleksibel dan memungkinkan kamu membuat hampir semua jenis visualisasi, tetapi memerlukan lebih banyak kode.\n",
        "Integrasi dengan Pandas: Seaborn bekerja dengan sangat baik dengan DataFrame Pandas, memudahkan pengguna untuk memvisualisasikan data langsung dari DataFrame. Meskipun Matplotlib juga mendukung DataFrame Pandas, Seaborn menyediakan interface yang lebih intuitif.\n",
        "Kustomisasi: sebagai library dasar, Matplotlib memberikan kontrol lebih besar kepada analyst dalam hal kustomisasi. Semenetara itu, Seaborn mengoptimalkan untuk kasus penggunaan umum, tetapi mungkin tidak sefleksibel Matplotlib untuk kebutuhan kustomisasi yang sangat spesifik.\n",
        "Dalam prakteknya, banyak data analyst menggunakan keduanya secara bersamaan. Seaborn untuk visualisasi cepat yang menarik dan informatif, sementara Matplotlib untuk kustomisasi lebih lanjut atau jenis visualisasi yang lebih kompleks.\n",
        "\n",
        "Instalasi Seaborn\n",
        "Berikut langkah-langkah menginstal Seaborn menggunakan PIP:\n",
        "\n",
        "#1 Persiapkan environment kerja Python\n",
        "Sebelum menginstal Seaborn, pastikan kamu sudah memiliki Python dan PIP terinstal di komputermu. Jika belum, kamu bisa mendownload dan menginstal Python dari website resminya.\n",
        "\n",
        "Saat menginstal Python, PIP biasanya sudah termasuk dalam paket instalasi.\n",
        "\n",
        "#2 Instalasi Seaborn\n",
        "Setelah memastikan PIP berfungsi dengan baik, buka terminal atau command prompt dan ketik perintah berikut:\n",
        "\n",
        "pip install seaborn\n",
        "\n",
        "Tunggu beberapa saat sampai proses instalasi selesai. PIP akan mengunduh dan menginstal Seaborn beserta semua dependensinya.\n",
        "\n",
        "#3 Mengatur environment Kerja Python\n",
        "Setelah Seaborn terinstal, kamu bisa mulai mengatur environment kerja Python di perangkatmu. Pertama, buat sebuah file Python baru atau buka interpreter Python interaktif. Kemudian, impor library yang diperlukan.\n",
        "\n",
        "Untuk menggunakan Seaborn, kamu juga perlu mengimpor Matplotlib karena Seaborn dibangun di atasnya. Berikut cara mengimpornya:"
      ],
      "metadata": {
        "id": "ScTDYwceeKFU"
      }
    },
    {
      "cell_type": "code",
      "source": [
        "import seaborn as sns\n",
        "import matplotlib.pyplot as plt"
      ],
      "metadata": {
        "id": "UoOu_3s7eRCu"
      },
      "execution_count": null,
      "outputs": []
    },
    {
      "cell_type": "markdown",
      "source": [
        "Cara Memuat Data untuk Visualisasi\n",
        "Sebelum memulai visualisasi data dengan Seaborn, langkah pertama yang harus dilakukan adalah memuat data yang ingin divisualisasikan.\n",
        "\n",
        "Seaborn menyediakan beberapa cara untuk melakukan ini:\n",
        "\n",
        "#1 Menggunakan dataset sampel dari Seaborn\n",
        "Salah satu fitur menarik dari Seaborn adalah kemampuannya memuat dataset sampel yang sudah disediakan. Fitur ini berguna jika kamu ingin belajar atau bereksperimen.\n",
        "\n",
        "Untuk memuat dataset sampel, kamu bisa menggunakan fungsi load_dataset(). Misalnya, untuk memuat dataset yang bernama 'tips', kamu bisa mengetik perintah berikut:"
      ],
      "metadata": {
        "id": "nKzdIfD6eTuU"
      }
    },
    {
      "cell_type": "code",
      "source": [
        "import seaborn as sns\n",
        "data = sns.load_dataset('tips')\n",
        "print(data.head())"
      ],
      "metadata": {
        "id": "v459C2CieW3l"
      },
      "execution_count": null,
      "outputs": []
    },
    {
      "cell_type": "markdown",
      "source": [
        "Fungsi head() dari Pandas digunakan untuk menampilkan lima baris pertama dari dataset..\n",
        "\n",
        "#2 Menggunakan data yang sudah ada\n",
        "Jika kamu memiliki data sendiri, misalnya dalam format CSV, kamu bisa memanfaatkan library Pandas untuk memuatnya.\n",
        "\n",
        "Setelah data dimuat ke dalam DataFrame Pandas, kamu akan lebih mudah memvisualisasikannya dengan Seaborn. Berikut contoh cara memuat data dari file CSV:"
      ],
      "metadata": {
        "id": "EwT2v29fech8"
      }
    },
    {
      "cell_type": "code",
      "source": [
        "import pandas as pd\n",
        "import seaborn as sns\n",
        "\n",
        "data = pd.read_csv('lokasi_file.csv')\n",
        "print(data.head())"
      ],
      "metadata": {
        "id": "zdw0OaEEegKr"
      },
      "execution_count": null,
      "outputs": []
    },
    {
      "cell_type": "markdown",
      "source": [
        "Cara Membuat Berbagai Jenis Plot dengan Seaborn\n",
        "Seaborn menawarkan berbagai jenis plot yang dapat membantu kamu dalam menganalisis dan mempresentasikan data. Berikut beberapa jenis plot Seaborn sekaligus cara membuatnya:\n",
        "\n",
        "Scatter plot\n",
        "Plot ini berguna untuk menampilkan hubungan antara dua variabel kontinu."
      ],
      "metadata": {
        "id": "NRmAFyjyen45"
      }
    },
    {
      "cell_type": "code",
      "source": [
        "import seaborn as sns\n",
        "import matplotlib.pyplot as plt\n",
        "\n",
        "data = sns.load_dataset('tips')\n",
        "sns.scatterplot(x='total_bill', y='tip', data=data)\n",
        "plt.show()"
      ],
      "metadata": {
        "id": "d4IuxhGQep_W"
      },
      "execution_count": null,
      "outputs": []
    },
    {
      "cell_type": "markdown",
      "source": [
        "Line plot"
      ],
      "metadata": {
        "id": "v5ybUOZ5esOz"
      }
    },
    {
      "cell_type": "code",
      "source": [
        "data = sns.load_dataset('flights')\n",
        "data_pivot = data.pivot_table(index='month', columns='year', values='passengers')\n",
        "sns.lineplot(data=data_pivot)\n",
        "plt.show()"
      ],
      "metadata": {
        "id": "fTzIRaZxeu94"
      },
      "execution_count": null,
      "outputs": []
    },
    {
      "cell_type": "markdown",
      "source": [
        "Bar plot\n",
        "Plot jenis ini berguna untuk membandingkan kuantitas variabel kategorikal."
      ],
      "metadata": {
        "id": "dq0vrTr5exaf"
      }
    },
    {
      "cell_type": "code",
      "source": [
        "data = sns.load_dataset('tips')\n",
        "sns.barplot(x='day', y='total_bill', data=data)\n",
        "plt.show()"
      ],
      "metadata": {
        "id": "CbGeCnshezi3"
      },
      "execution_count": null,
      "outputs": []
    },
    {
      "cell_type": "markdown",
      "source": [
        "Histogram\n",
        "Histogram dipakai untuk menampilkan distribusi dari satu variabel kontinu."
      ],
      "metadata": {
        "id": "B6kNJ1pSe2qz"
      }
    },
    {
      "cell_type": "code",
      "source": [
        "data = sns.load_dataset('tips')\n",
        "sns.histplot(data['total_bill'])\n",
        "plt.show()"
      ],
      "metadata": {
        "id": "P9Z9ZwUZe4vW"
      },
      "execution_count": null,
      "outputs": []
    },
    {
      "cell_type": "markdown",
      "source": [
        "Box plot\n",
        "Box plot menunjukkan distribusi data melalui kuartil dan dapat mengidentifikasi pencilan."
      ],
      "metadata": {
        "id": "xPWHp532e7JJ"
      }
    },
    {
      "cell_type": "code",
      "source": [
        "data = sns.load_dataset('tips')\n",
        "sns.boxplot(x='day', y='total_bill', data=data)\n",
        "plt.show()"
      ],
      "metadata": {
        "id": "8Okv24L7e97v"
      },
      "execution_count": null,
      "outputs": []
    },
    {
      "cell_type": "markdown",
      "source": [
        "Heatmap\n",
        "Heatmap berguna untuk menampilkan korelasi atau hubungan antara dua variabel kategorikal."
      ],
      "metadata": {
        "id": "g9jXio-nfAJv"
      }
    },
    {
      "cell_type": "code",
      "source": [
        "data = sns.load_dataset('flights')\n",
        "data_pivot = data.pivot_table(index='month', columns='year', values='passengers')\n",
        "sns.heatmap(data_pivot, cmap='YlGnBu')\n",
        "plt.show()"
      ],
      "metadata": {
        "id": "cjtzourMfC4g"
      },
      "execution_count": null,
      "outputs": []
    },
    {
      "cell_type": "markdown",
      "source": [
        "Cara Mengubah Tampilan Plot dengan Seaborn\n",
        "Berikut beberapa cara mengubah tampilan plot dengan Seaborn:\n",
        "\n",
        "Mengubah warna plot: Seaborn memiliki palet warna beragam yang dapat kamu gunakan untuk mempercantik plot. Misalnya, jika kamu ingin mengubah warna scatter plot, gunakan perintah berikut:"
      ],
      "metadata": {
        "id": "UggxBi5nfFrQ"
      }
    },
    {
      "cell_type": "code",
      "source": [
        "import seaborn as sns\n",
        "import matplotlib.pyplot as plt\n",
        "data = sns.load_dataset('tips')\n",
        "sns.scatterplot(x='total_bill', y='tip', data=data, palette='viridis')\n",
        "plt.show()"
      ],
      "metadata": {
        "id": "nL_wQxykfHtK"
      },
      "execution_count": null,
      "outputs": []
    },
    {
      "cell_type": "markdown",
      "source": [
        "Menambahkan dan mengkustomisasi label: label sangat penting untuk memastikan bahwa audiens memahami informasi yang disajikan. Berikut perintah untuk menggunakannya:"
      ],
      "metadata": {
        "id": "XO64rLHTfJwi"
      }
    },
    {
      "cell_type": "code",
      "source": [
        "sns.scatterplot(x='total_bill', y='tip', data=data)\n",
        "plt.title('Hubungan antara Total Bill dan Tip')\n",
        "plt.xlabel('Total Bill')\n",
        "plt.ylabel('Tip')\n",
        "plt.show()"
      ],
      "metadata": {
        "id": "NWpG5tkyfMRa"
      },
      "execution_count": null,
      "outputs": []
    },
    {
      "cell_type": "markdown",
      "source": [
        "Mengubah style plot: Seaborn memungkinkan kamu mengubah style backround plot dengan fungsi set_style()."
      ],
      "metadata": {
        "id": "oTRV7ZKhfN-0"
      }
    },
    {
      "cell_type": "code",
      "source": [
        "sns.set_style(\"whitegrid\")\n",
        "sns.scatterplot(x='total_bill', y='tip', data=data)\n",
        "plt.show()"
      ],
      "metadata": {
        "id": "777t4iJefQWr"
      },
      "execution_count": null,
      "outputs": []
    },
    {
      "cell_type": "markdown",
      "source": [
        "Menyesuaikan ukuran dan bentuk titik: pada scatter plot, kamu bisa mengubah ukuran dan bentuk titik berdasarkan variabel tertentu."
      ],
      "metadata": {
        "id": "y2beNGLIfS3k"
      }
    },
    {
      "cell_type": "code",
      "source": [
        "sns.scatterplot(x='total_bill', y='tip',\n",
        "data=data, size='size', hue='sex', style='time')\n",
        "plt.show()"
      ],
      "metadata": {
        "id": "Hwjtaz2nfVyO"
      },
      "execution_count": null,
      "outputs": []
    },
    {
      "cell_type": "markdown",
      "source": [
        "Menggunakan tema: Seaborn menyediakan beberapa tema bawaan yang dapat kamu gunakan untuk mengubah tampilan keseluruhan plot dengan mudah."
      ],
      "metadata": {
        "id": "zGZTLIh9fXf6"
      }
    },
    {
      "cell_type": "code",
      "source": [
        "sns.set_theme(style=\"darkgrid\")\n",
        "sns.lineplot(data=data_pivot)\n",
        "plt.show()"
      ],
      "metadata": {
        "id": "mWt34HHifZsT"
      },
      "execution_count": null,
      "outputs": []
    },
    {
      "cell_type": "markdown",
      "source": [
        "Dengan mengkombinasikan berbagai fitur kustomisasi di atas, kamu bisa membuat visualisasi yang tidak hanya informatif, tetapi juga mudah dipahami oleh audiens.\n",
        "\n",
        "Cara Membuat Heatmap dan Korelasi dengan Seaborn\n",
        "Heatmap adalah salah satu jenis visualisasi untuk menampilkan hubungan antara dua variabel kategorikal atau untuk menampilkan korelasi antara variabel-variabel dalam dataset.\n",
        "\n",
        "Pada konteks analisis data, heatmap sering dipakai untuk memvisualisasikan matriks korelasi antara variabel.\n",
        "\n",
        "Berikut cara membuat heatmap untuk matriks korelasi.\n",
        "\n",
        "Pertama-tama, kamu perlu menghitung matriks korelasi dari dataset menggunakan Pandas. Kemudian, kamu bisa memvisualisasikannya dengan Seaborn."
      ],
      "metadata": {
        "id": "RlcImiRefcD2"
      }
    },
    {
      "cell_type": "code",
      "source": [
        "import seaborn as sns\n",
        "import matplotlib.pyplot as plt\n",
        "import pandas as pd\n",
        "\n",
        "data = sns.load_dataset('tips')\n",
        "korelasi = data.corr()\n",
        "sns.heatmap(korelasi, annot=True, cmap='coolwarm')\n",
        "plt.show()"
      ],
      "metadata": {
        "id": "4-BX9NI0ff4K"
      },
      "execution_count": null,
      "outputs": []
    },
    {
      "cell_type": "markdown",
      "source": [
        "Dalam kode di atas, data.corr() menghitung matriks korelasi dari dataset. Parameter annot=True memastikan bahwa nilai korelasi ditampilkan di dalam sel heatmap. Sementara cmap digunakan untuk menentukan palet warna.\n",
        "\n",
        "Jika kamu ingin mengubah format annotation pada heatmap, kamu bisa menambahkan parameter fmt. Contoh:"
      ],
      "metadata": {
        "id": "ys9AlZcxfia1"
      }
    },
    {
      "cell_type": "code",
      "source": [
        "data = sns.load_dataset('tips')\n",
        "korelasi = data.corr()\n",
        "sns.heatmap(korelasi, annot=True, cmap='coolwarm', fmt='.4f')\n",
        "plt.show()"
      ],
      "metadata": {
        "id": "19ZZWvrAflq4"
      },
      "execution_count": null,
      "outputs": []
    },
    {
      "cell_type": "markdown",
      "source": [
        "Dengan menambahkan fmt='.4f', nilai korelasi akan ditampilkan dengan empat angka desimal.\n",
        "\n",
        "Selain membuat matriks korelasi, heatmap juga memungkinkan kamu dengan cepat mengidentifikasi hubungan antara variabel.\n",
        "\n",
        "Warna yang lebih hangat (misalnya, merah atau oranye) biasanya menunjukkan korelasi positif yang kuat, sedangkan warna yang lebih dingin (seperti biru) menunjukkan korelasi negatif. Jika sel dalam heatmap berwarna netral atau mendekati nol, menunjukkan tidak ada korelasi yang signifikan antara dua variabel tersebut."
      ],
      "metadata": {
        "id": "qUsnesvMfoNS"
      }
    }
  ]
}